{
  "nbformat": 4,
  "nbformat_minor": 0,
  "metadata": {
    "colab": {
      "name": "Untitled29.ipynb",
      "provenance": []
    },
    "kernelspec": {
      "name": "python3",
      "display_name": "Python 3"
    },
    "language_info": {
      "name": "python"
    }
  },
  "cells": [
    {
      "cell_type": "code",
      "metadata": {
        "id": "sCV30xyVhFbE"
      },
      "source": [
        "import tensorflow as tf\n",
        "from keras.preprocessing.image import ImageDataGenerator\n",
        "import numpy as np\n",
        "import matplotlib.pyplot as plt\n",
        "import pandas as pd"
      ],
      "execution_count": 1,
      "outputs": []
    },
    {
      "cell_type": "code",
      "metadata": {
        "id": "wqqYdOm-mTRp"
      },
      "source": [
        "dataset= pd.read_csv('coughdf3000.csv')"
      ],
      "execution_count": 2,
      "outputs": []
    },
    {
      "cell_type": "code",
      "metadata": {
        "colab": {
          "base_uri": "https://localhost:8080/",
          "height": 632
        },
        "id": "NtSR4_kU-rp0",
        "outputId": "00a6df67-b8b3-449e-a439-31f22fe1ca5c"
      },
      "source": [
        "dataset"
      ],
      "execution_count": 3,
      "outputs": [
        {
          "output_type": "execute_result",
          "data": {
            "text/html": [
              "<div>\n",
              "<style scoped>\n",
              "    .dataframe tbody tr th:only-of-type {\n",
              "        vertical-align: middle;\n",
              "    }\n",
              "\n",
              "    .dataframe tbody tr th {\n",
              "        vertical-align: top;\n",
              "    }\n",
              "\n",
              "    .dataframe thead th {\n",
              "        text-align: right;\n",
              "    }\n",
              "</style>\n",
              "<table border=\"1\" class=\"dataframe\">\n",
              "  <thead>\n",
              "    <tr style=\"text-align: right;\">\n",
              "      <th></th>\n",
              "      <th>Unnamed: 0</th>\n",
              "      <th>datetime</th>\n",
              "      <th>cough_detected</th>\n",
              "      <th>latitude</th>\n",
              "      <th>longitude</th>\n",
              "      <th>age</th>\n",
              "      <th>gender</th>\n",
              "      <th>respiratory_condition</th>\n",
              "      <th>fever_muscle_pain</th>\n",
              "      <th>status</th>\n",
              "      <th>expert_labels_3</th>\n",
              "      <th>expert_labels_2</th>\n",
              "      <th>expert_labels_1</th>\n",
              "    </tr>\n",
              "  </thead>\n",
              "  <tbody>\n",
              "    <tr>\n",
              "      <th>0</th>\n",
              "      <td>0</td>\n",
              "      <td>2020-04-13T21:30:59.801831+00:00</td>\n",
              "      <td>0.9609</td>\n",
              "      <td>31.3</td>\n",
              "      <td>34.8</td>\n",
              "      <td>15.0</td>\n",
              "      <td>male</td>\n",
              "      <td>False</td>\n",
              "      <td>False</td>\n",
              "      <td>healthy</td>\n",
              "      <td>NaN</td>\n",
              "      <td>NaN</td>\n",
              "      <td>NaN</td>\n",
              "    </tr>\n",
              "    <tr>\n",
              "      <th>1</th>\n",
              "      <td>1</td>\n",
              "      <td>2020-04-13T21:30:59.801831+00:00</td>\n",
              "      <td>0.9609</td>\n",
              "      <td>31.3</td>\n",
              "      <td>34.8</td>\n",
              "      <td>15.0</td>\n",
              "      <td>male</td>\n",
              "      <td>False</td>\n",
              "      <td>False</td>\n",
              "      <td>healthy</td>\n",
              "      <td>NaN</td>\n",
              "      <td>NaN</td>\n",
              "      <td>NaN</td>\n",
              "    </tr>\n",
              "    <tr>\n",
              "      <th>2</th>\n",
              "      <td>2</td>\n",
              "      <td>2020-04-12T04:02:18.159383+00:00</td>\n",
              "      <td>0.9301</td>\n",
              "      <td>40.0</td>\n",
              "      <td>-75.1</td>\n",
              "      <td>34.0</td>\n",
              "      <td>male</td>\n",
              "      <td>True</td>\n",
              "      <td>False</td>\n",
              "      <td>healthy</td>\n",
              "      <td>NaN</td>\n",
              "      <td>NaN</td>\n",
              "      <td>NaN</td>\n",
              "    </tr>\n",
              "    <tr>\n",
              "      <th>3</th>\n",
              "      <td>3</td>\n",
              "      <td>2020-04-15T01:03:59.029326+00:00</td>\n",
              "      <td>0.0482</td>\n",
              "      <td>-16.5</td>\n",
              "      <td>-71.5</td>\n",
              "      <td>NaN</td>\n",
              "      <td>NaN</td>\n",
              "      <td>NaN</td>\n",
              "      <td>NaN</td>\n",
              "      <td>NaN</td>\n",
              "      <td>NaN</td>\n",
              "      <td>NaN</td>\n",
              "      <td>NaN</td>\n",
              "    </tr>\n",
              "    <tr>\n",
              "      <th>4</th>\n",
              "      <td>4</td>\n",
              "      <td>2020-04-13T22:23:06.997578+00:00</td>\n",
              "      <td>0.9968</td>\n",
              "      <td>NaN</td>\n",
              "      <td>NaN</td>\n",
              "      <td>21.0</td>\n",
              "      <td>male</td>\n",
              "      <td>False</td>\n",
              "      <td>False</td>\n",
              "      <td>healthy</td>\n",
              "      <td>NaN</td>\n",
              "      <td>NaN</td>\n",
              "      <td>NaN</td>\n",
              "    </tr>\n",
              "    <tr>\n",
              "      <th>...</th>\n",
              "      <td>...</td>\n",
              "      <td>...</td>\n",
              "      <td>...</td>\n",
              "      <td>...</td>\n",
              "      <td>...</td>\n",
              "      <td>...</td>\n",
              "      <td>...</td>\n",
              "      <td>...</td>\n",
              "      <td>...</td>\n",
              "      <td>...</td>\n",
              "      <td>...</td>\n",
              "      <td>...</td>\n",
              "      <td>...</td>\n",
              "    </tr>\n",
              "    <tr>\n",
              "      <th>2996</th>\n",
              "      <td>2996</td>\n",
              "      <td>2020-04-10T22:50:30.779239+00:00</td>\n",
              "      <td>0.9529</td>\n",
              "      <td>NaN</td>\n",
              "      <td>NaN</td>\n",
              "      <td>NaN</td>\n",
              "      <td>NaN</td>\n",
              "      <td>NaN</td>\n",
              "      <td>NaN</td>\n",
              "      <td>NaN</td>\n",
              "      <td>NaN</td>\n",
              "      <td>NaN</td>\n",
              "      <td>NaN</td>\n",
              "    </tr>\n",
              "    <tr>\n",
              "      <th>2997</th>\n",
              "      <td>2997</td>\n",
              "      <td>2020-04-14T13:08:00.980026+00:00</td>\n",
              "      <td>0.7657</td>\n",
              "      <td>NaN</td>\n",
              "      <td>NaN</td>\n",
              "      <td>25.0</td>\n",
              "      <td>female</td>\n",
              "      <td>False</td>\n",
              "      <td>False</td>\n",
              "      <td>healthy</td>\n",
              "      <td>NaN</td>\n",
              "      <td>NaN</td>\n",
              "      <td>NaN</td>\n",
              "    </tr>\n",
              "    <tr>\n",
              "      <th>2998</th>\n",
              "      <td>2998</td>\n",
              "      <td>2020-04-13T16:45:22.424278+00:00</td>\n",
              "      <td>0.6900</td>\n",
              "      <td>40.8</td>\n",
              "      <td>72.2</td>\n",
              "      <td>NaN</td>\n",
              "      <td>NaN</td>\n",
              "      <td>NaN</td>\n",
              "      <td>NaN</td>\n",
              "      <td>NaN</td>\n",
              "      <td>NaN</td>\n",
              "      <td>NaN</td>\n",
              "      <td>NaN</td>\n",
              "    </tr>\n",
              "    <tr>\n",
              "      <th>2999</th>\n",
              "      <td>2999</td>\n",
              "      <td>2020-04-13T15:02:24.164793+00:00</td>\n",
              "      <td>0.1213</td>\n",
              "      <td>40.5</td>\n",
              "      <td>71.7</td>\n",
              "      <td>NaN</td>\n",
              "      <td>NaN</td>\n",
              "      <td>NaN</td>\n",
              "      <td>NaN</td>\n",
              "      <td>NaN</td>\n",
              "      <td>NaN</td>\n",
              "      <td>NaN</td>\n",
              "      <td>NaN</td>\n",
              "    </tr>\n",
              "    <tr>\n",
              "      <th>3000</th>\n",
              "      <td>3000</td>\n",
              "      <td>2020-04-13T18:15:51.705478+00:00</td>\n",
              "      <td>0.8310</td>\n",
              "      <td>41.1</td>\n",
              "      <td>28.9</td>\n",
              "      <td>NaN</td>\n",
              "      <td>NaN</td>\n",
              "      <td>NaN</td>\n",
              "      <td>NaN</td>\n",
              "      <td>NaN</td>\n",
              "      <td>NaN</td>\n",
              "      <td>NaN</td>\n",
              "      <td>NaN</td>\n",
              "    </tr>\n",
              "  </tbody>\n",
              "</table>\n",
              "<p>3001 rows × 13 columns</p>\n",
              "</div>"
            ],
            "text/plain": [
              "      Unnamed: 0  ... expert_labels_1\n",
              "0              0  ...             NaN\n",
              "1              1  ...             NaN\n",
              "2              2  ...             NaN\n",
              "3              3  ...             NaN\n",
              "4              4  ...             NaN\n",
              "...          ...  ...             ...\n",
              "2996        2996  ...             NaN\n",
              "2997        2997  ...             NaN\n",
              "2998        2998  ...             NaN\n",
              "2999        2999  ...             NaN\n",
              "3000        3000  ...             NaN\n",
              "\n",
              "[3001 rows x 13 columns]"
            ]
          },
          "metadata": {
            "tags": []
          },
          "execution_count": 3
        }
      ]
    },
    {
      "cell_type": "code",
      "metadata": {
        "id": "4NHLOLChsIwx"
      },
      "source": [
        "updt=dataset.drop('expert_labels_3', inplace=True, axis=1)\n",
        "updt=dataset.drop('expert_labels_2', inplace=True, axis=1)\n",
        "updt=dataset.drop('expert_labels_1', inplace=True, axis=1)\n",
        "updt=dataset.drop('datetime', inplace=True, axis=1)\n",
        "updt=dataset.dropna(subset=['status'])\n",
        "updt=dataset.dropna(subset=['gender','respiratory_condition','fever_muscle_pain'],how='all')\n",
        "updt=updt.replace(to_replace =[\"other\"], \n",
        "                            value =\"female\")\n"
      ],
      "execution_count": 4,
      "outputs": []
    },
    {
      "cell_type": "code",
      "metadata": {
        "colab": {
          "base_uri": "https://localhost:8080/",
          "height": 459
        },
        "id": "ghKRVAByiQum",
        "outputId": "5e5f83af-e06c-4cc5-ecef-f2b68f150d3f"
      },
      "source": [
        "updt\n"
      ],
      "execution_count": 5,
      "outputs": [
        {
          "output_type": "execute_result",
          "data": {
            "text/html": [
              "<div>\n",
              "<style scoped>\n",
              "    .dataframe tbody tr th:only-of-type {\n",
              "        vertical-align: middle;\n",
              "    }\n",
              "\n",
              "    .dataframe tbody tr th {\n",
              "        vertical-align: top;\n",
              "    }\n",
              "\n",
              "    .dataframe thead th {\n",
              "        text-align: right;\n",
              "    }\n",
              "</style>\n",
              "<table border=\"1\" class=\"dataframe\">\n",
              "  <thead>\n",
              "    <tr style=\"text-align: right;\">\n",
              "      <th></th>\n",
              "      <th>Unnamed: 0</th>\n",
              "      <th>cough_detected</th>\n",
              "      <th>latitude</th>\n",
              "      <th>longitude</th>\n",
              "      <th>age</th>\n",
              "      <th>gender</th>\n",
              "      <th>respiratory_condition</th>\n",
              "      <th>fever_muscle_pain</th>\n",
              "      <th>status</th>\n",
              "    </tr>\n",
              "  </thead>\n",
              "  <tbody>\n",
              "    <tr>\n",
              "      <th>0</th>\n",
              "      <td>0</td>\n",
              "      <td>0.9609</td>\n",
              "      <td>31.3</td>\n",
              "      <td>34.8</td>\n",
              "      <td>15.0</td>\n",
              "      <td>male</td>\n",
              "      <td>False</td>\n",
              "      <td>False</td>\n",
              "      <td>healthy</td>\n",
              "    </tr>\n",
              "    <tr>\n",
              "      <th>1</th>\n",
              "      <td>1</td>\n",
              "      <td>0.9609</td>\n",
              "      <td>31.3</td>\n",
              "      <td>34.8</td>\n",
              "      <td>15.0</td>\n",
              "      <td>male</td>\n",
              "      <td>False</td>\n",
              "      <td>False</td>\n",
              "      <td>healthy</td>\n",
              "    </tr>\n",
              "    <tr>\n",
              "      <th>2</th>\n",
              "      <td>2</td>\n",
              "      <td>0.9301</td>\n",
              "      <td>40.0</td>\n",
              "      <td>-75.1</td>\n",
              "      <td>34.0</td>\n",
              "      <td>male</td>\n",
              "      <td>True</td>\n",
              "      <td>False</td>\n",
              "      <td>healthy</td>\n",
              "    </tr>\n",
              "    <tr>\n",
              "      <th>4</th>\n",
              "      <td>4</td>\n",
              "      <td>0.9968</td>\n",
              "      <td>NaN</td>\n",
              "      <td>NaN</td>\n",
              "      <td>21.0</td>\n",
              "      <td>male</td>\n",
              "      <td>False</td>\n",
              "      <td>False</td>\n",
              "      <td>healthy</td>\n",
              "    </tr>\n",
              "    <tr>\n",
              "      <th>6</th>\n",
              "      <td>6</td>\n",
              "      <td>0.0306</td>\n",
              "      <td>13.8</td>\n",
              "      <td>-89.6</td>\n",
              "      <td>NaN</td>\n",
              "      <td>female</td>\n",
              "      <td>False</td>\n",
              "      <td>True</td>\n",
              "      <td>COVID-19</td>\n",
              "    </tr>\n",
              "    <tr>\n",
              "      <th>...</th>\n",
              "      <td>...</td>\n",
              "      <td>...</td>\n",
              "      <td>...</td>\n",
              "      <td>...</td>\n",
              "      <td>...</td>\n",
              "      <td>...</td>\n",
              "      <td>...</td>\n",
              "      <td>...</td>\n",
              "      <td>...</td>\n",
              "    </tr>\n",
              "    <tr>\n",
              "      <th>2990</th>\n",
              "      <td>2990</td>\n",
              "      <td>0.6112</td>\n",
              "      <td>-34.5</td>\n",
              "      <td>-58.7</td>\n",
              "      <td>34.0</td>\n",
              "      <td>female</td>\n",
              "      <td>False</td>\n",
              "      <td>False</td>\n",
              "      <td>symptomatic</td>\n",
              "    </tr>\n",
              "    <tr>\n",
              "      <th>2991</th>\n",
              "      <td>2991</td>\n",
              "      <td>0.8751</td>\n",
              "      <td>NaN</td>\n",
              "      <td>NaN</td>\n",
              "      <td>36.0</td>\n",
              "      <td>male</td>\n",
              "      <td>False</td>\n",
              "      <td>False</td>\n",
              "      <td>healthy</td>\n",
              "    </tr>\n",
              "    <tr>\n",
              "      <th>2993</th>\n",
              "      <td>2993</td>\n",
              "      <td>0.5233</td>\n",
              "      <td>-23.6</td>\n",
              "      <td>-70.4</td>\n",
              "      <td>23.0</td>\n",
              "      <td>female</td>\n",
              "      <td>True</td>\n",
              "      <td>False</td>\n",
              "      <td>COVID-19</td>\n",
              "    </tr>\n",
              "    <tr>\n",
              "      <th>2994</th>\n",
              "      <td>2994</td>\n",
              "      <td>0.1537</td>\n",
              "      <td>43.7</td>\n",
              "      <td>-79.4</td>\n",
              "      <td>14.0</td>\n",
              "      <td>male</td>\n",
              "      <td>False</td>\n",
              "      <td>False</td>\n",
              "      <td>healthy</td>\n",
              "    </tr>\n",
              "    <tr>\n",
              "      <th>2997</th>\n",
              "      <td>2997</td>\n",
              "      <td>0.7657</td>\n",
              "      <td>NaN</td>\n",
              "      <td>NaN</td>\n",
              "      <td>25.0</td>\n",
              "      <td>female</td>\n",
              "      <td>False</td>\n",
              "      <td>False</td>\n",
              "      <td>healthy</td>\n",
              "    </tr>\n",
              "  </tbody>\n",
              "</table>\n",
              "<p>1716 rows × 9 columns</p>\n",
              "</div>"
            ],
            "text/plain": [
              "      Unnamed: 0  cough_detected  ...  fever_muscle_pain       status\n",
              "0              0          0.9609  ...              False      healthy\n",
              "1              1          0.9609  ...              False      healthy\n",
              "2              2          0.9301  ...              False      healthy\n",
              "4              4          0.9968  ...              False      healthy\n",
              "6              6          0.0306  ...               True     COVID-19\n",
              "...          ...             ...  ...                ...          ...\n",
              "2990        2990          0.6112  ...              False  symptomatic\n",
              "2991        2991          0.8751  ...              False      healthy\n",
              "2993        2993          0.5233  ...              False     COVID-19\n",
              "2994        2994          0.1537  ...              False      healthy\n",
              "2997        2997          0.7657  ...              False      healthy\n",
              "\n",
              "[1716 rows x 9 columns]"
            ]
          },
          "metadata": {
            "tags": []
          },
          "execution_count": 5
        }
      ]
    },
    {
      "cell_type": "code",
      "metadata": {
        "id": "MauBL9BVVm_o"
      },
      "source": [
        "from sklearn import preprocessing\n",
        "levelencoder= preprocessing.LabelEncoder()\n",
        "updt['fever_muscle_pain']= levelencoder.fit_transform(updt['fever_muscle_pain'])\n",
        "updt['gender']= levelencoder.fit_transform(updt['gender'])\n",
        "updt['respiratory_condition']= levelencoder.fit_transform(updt['respiratory_condition'])\n",
        "updt['status']= levelencoder.fit_transform(updt['status'])\n"
      ],
      "execution_count": 6,
      "outputs": []
    },
    {
      "cell_type": "code",
      "metadata": {
        "colab": {
          "base_uri": "https://localhost:8080/",
          "height": 459
        },
        "id": "bcP5AVK3c2pi",
        "outputId": "5c369c61-617d-4fff-83e2-a92acf6d2c07"
      },
      "source": [
        "updt"
      ],
      "execution_count": 7,
      "outputs": [
        {
          "output_type": "execute_result",
          "data": {
            "text/html": [
              "<div>\n",
              "<style scoped>\n",
              "    .dataframe tbody tr th:only-of-type {\n",
              "        vertical-align: middle;\n",
              "    }\n",
              "\n",
              "    .dataframe tbody tr th {\n",
              "        vertical-align: top;\n",
              "    }\n",
              "\n",
              "    .dataframe thead th {\n",
              "        text-align: right;\n",
              "    }\n",
              "</style>\n",
              "<table border=\"1\" class=\"dataframe\">\n",
              "  <thead>\n",
              "    <tr style=\"text-align: right;\">\n",
              "      <th></th>\n",
              "      <th>Unnamed: 0</th>\n",
              "      <th>cough_detected</th>\n",
              "      <th>latitude</th>\n",
              "      <th>longitude</th>\n",
              "      <th>age</th>\n",
              "      <th>gender</th>\n",
              "      <th>respiratory_condition</th>\n",
              "      <th>fever_muscle_pain</th>\n",
              "      <th>status</th>\n",
              "    </tr>\n",
              "  </thead>\n",
              "  <tbody>\n",
              "    <tr>\n",
              "      <th>0</th>\n",
              "      <td>0</td>\n",
              "      <td>0.9609</td>\n",
              "      <td>31.3</td>\n",
              "      <td>34.8</td>\n",
              "      <td>15.0</td>\n",
              "      <td>1</td>\n",
              "      <td>0</td>\n",
              "      <td>0</td>\n",
              "      <td>1</td>\n",
              "    </tr>\n",
              "    <tr>\n",
              "      <th>1</th>\n",
              "      <td>1</td>\n",
              "      <td>0.9609</td>\n",
              "      <td>31.3</td>\n",
              "      <td>34.8</td>\n",
              "      <td>15.0</td>\n",
              "      <td>1</td>\n",
              "      <td>0</td>\n",
              "      <td>0</td>\n",
              "      <td>1</td>\n",
              "    </tr>\n",
              "    <tr>\n",
              "      <th>2</th>\n",
              "      <td>2</td>\n",
              "      <td>0.9301</td>\n",
              "      <td>40.0</td>\n",
              "      <td>-75.1</td>\n",
              "      <td>34.0</td>\n",
              "      <td>1</td>\n",
              "      <td>1</td>\n",
              "      <td>0</td>\n",
              "      <td>1</td>\n",
              "    </tr>\n",
              "    <tr>\n",
              "      <th>4</th>\n",
              "      <td>4</td>\n",
              "      <td>0.9968</td>\n",
              "      <td>NaN</td>\n",
              "      <td>NaN</td>\n",
              "      <td>21.0</td>\n",
              "      <td>1</td>\n",
              "      <td>0</td>\n",
              "      <td>0</td>\n",
              "      <td>1</td>\n",
              "    </tr>\n",
              "    <tr>\n",
              "      <th>6</th>\n",
              "      <td>6</td>\n",
              "      <td>0.0306</td>\n",
              "      <td>13.8</td>\n",
              "      <td>-89.6</td>\n",
              "      <td>NaN</td>\n",
              "      <td>0</td>\n",
              "      <td>0</td>\n",
              "      <td>1</td>\n",
              "      <td>0</td>\n",
              "    </tr>\n",
              "    <tr>\n",
              "      <th>...</th>\n",
              "      <td>...</td>\n",
              "      <td>...</td>\n",
              "      <td>...</td>\n",
              "      <td>...</td>\n",
              "      <td>...</td>\n",
              "      <td>...</td>\n",
              "      <td>...</td>\n",
              "      <td>...</td>\n",
              "      <td>...</td>\n",
              "    </tr>\n",
              "    <tr>\n",
              "      <th>2990</th>\n",
              "      <td>2990</td>\n",
              "      <td>0.6112</td>\n",
              "      <td>-34.5</td>\n",
              "      <td>-58.7</td>\n",
              "      <td>34.0</td>\n",
              "      <td>0</td>\n",
              "      <td>0</td>\n",
              "      <td>0</td>\n",
              "      <td>2</td>\n",
              "    </tr>\n",
              "    <tr>\n",
              "      <th>2991</th>\n",
              "      <td>2991</td>\n",
              "      <td>0.8751</td>\n",
              "      <td>NaN</td>\n",
              "      <td>NaN</td>\n",
              "      <td>36.0</td>\n",
              "      <td>1</td>\n",
              "      <td>0</td>\n",
              "      <td>0</td>\n",
              "      <td>1</td>\n",
              "    </tr>\n",
              "    <tr>\n",
              "      <th>2993</th>\n",
              "      <td>2993</td>\n",
              "      <td>0.5233</td>\n",
              "      <td>-23.6</td>\n",
              "      <td>-70.4</td>\n",
              "      <td>23.0</td>\n",
              "      <td>0</td>\n",
              "      <td>1</td>\n",
              "      <td>0</td>\n",
              "      <td>0</td>\n",
              "    </tr>\n",
              "    <tr>\n",
              "      <th>2994</th>\n",
              "      <td>2994</td>\n",
              "      <td>0.1537</td>\n",
              "      <td>43.7</td>\n",
              "      <td>-79.4</td>\n",
              "      <td>14.0</td>\n",
              "      <td>1</td>\n",
              "      <td>0</td>\n",
              "      <td>0</td>\n",
              "      <td>1</td>\n",
              "    </tr>\n",
              "    <tr>\n",
              "      <th>2997</th>\n",
              "      <td>2997</td>\n",
              "      <td>0.7657</td>\n",
              "      <td>NaN</td>\n",
              "      <td>NaN</td>\n",
              "      <td>25.0</td>\n",
              "      <td>0</td>\n",
              "      <td>0</td>\n",
              "      <td>0</td>\n",
              "      <td>1</td>\n",
              "    </tr>\n",
              "  </tbody>\n",
              "</table>\n",
              "<p>1716 rows × 9 columns</p>\n",
              "</div>"
            ],
            "text/plain": [
              "      Unnamed: 0  cough_detected  ...  fever_muscle_pain  status\n",
              "0              0          0.9609  ...                  0       1\n",
              "1              1          0.9609  ...                  0       1\n",
              "2              2          0.9301  ...                  0       1\n",
              "4              4          0.9968  ...                  0       1\n",
              "6              6          0.0306  ...                  1       0\n",
              "...          ...             ...  ...                ...     ...\n",
              "2990        2990          0.6112  ...                  0       2\n",
              "2991        2991          0.8751  ...                  0       1\n",
              "2993        2993          0.5233  ...                  0       0\n",
              "2994        2994          0.1537  ...                  0       1\n",
              "2997        2997          0.7657  ...                  0       1\n",
              "\n",
              "[1716 rows x 9 columns]"
            ]
          },
          "metadata": {
            "tags": []
          },
          "execution_count": 7
        }
      ]
    },
    {
      "cell_type": "code",
      "metadata": {
        "id": "vSCKcjjtVqae"
      },
      "source": [
        "#X = updt.iloc[:, 1:-1].values\n",
        "#y = updt.iloc[:, -1].values"
      ],
      "execution_count": 8,
      "outputs": []
    },
    {
      "cell_type": "code",
      "metadata": {
        "id": "IjwBUJ7qWqw5"
      },
      "source": [
        "#from sklearn.impute import SimpleImputer\n",
        "#imputer = SimpleImputer(missing_values=np.nan, strategy='mean')\n",
        "#imputer.fit(X[:, 1:4])\n",
        "#X[:, 1:4] = imputer.transform(X[:, 1:4])\n",
        "#print(X)"
      ],
      "execution_count": 9,
      "outputs": []
    },
    {
      "cell_type": "code",
      "metadata": {
        "id": "rc5yGfBvhWMj"
      },
      "source": [
        "#cnn = tf.keras.models.Sequential()"
      ],
      "execution_count": 10,
      "outputs": []
    },
    {
      "cell_type": "code",
      "metadata": {
        "id": "sGa5ai0sr-NR"
      },
      "source": [
        "#cnn.add(tf.keras.layers.Conv2D(filters=32, kernel_size=2, activation='relu', input_shape=(# 7,1)))"
      ],
      "execution_count": 11,
      "outputs": []
    },
    {
      "cell_type": "code",
      "metadata": {
        "id": "ppY0ydQAt7JB"
      },
      "source": [
        "#cnn.add(tf.keras.layers.MaxPool2D(pool_size=2, strides=2))\n"
      ],
      "execution_count": 12,
      "outputs": []
    },
    {
      "cell_type": "code",
      "metadata": {
        "id": "eB_E6Aew9RRl"
      },
      "source": [
        "#cnn.add(tf.keras.layers.Flatten())"
      ],
      "execution_count": 13,
      "outputs": []
    },
    {
      "cell_type": "code",
      "metadata": {
        "id": "tQ_55M_29WX7"
      },
      "source": [
        "#cnn.add(tf.keras.layers.Dense(units=128, activation='relu'))"
      ],
      "execution_count": 14,
      "outputs": []
    },
    {
      "cell_type": "code",
      "metadata": {
        "id": "fYQzp7Hy9YFr"
      },
      "source": [
        "#cnn.add(tf.keras.layers.Dense(units=2, activation='softmax'))"
      ],
      "execution_count": 15,
      "outputs": []
    },
    {
      "cell_type": "markdown",
      "metadata": {
        "id": "mQe4-UP3j7Cs"
      },
      "source": [
        "training CNN\n"
      ]
    },
    {
      "cell_type": "code",
      "metadata": {
        "id": "rh-q1pxIkBB9"
      },
      "source": [
        "#cnn.compile(optimizer = 'adam', loss = 'categorical_crossentropy', metrics = ['accuracy'])\n"
      ],
      "execution_count": 16,
      "outputs": []
    },
    {
      "cell_type": "code",
      "metadata": {
        "id": "BjNQwZvEJXhT"
      },
      "source": [
        "#cnn.fit(X_train, y_train, batch_size=128, epochs=10, validation_data=(X_test, y_test), verbose=0)\n",
        "#cnn.fit(X_train, y_train, batch_size=128, epochs=10,validation_split=1/12,verbose=1)\n",
        "#score = cnn.evaluate(X_test, y_test,metrics=['acc'], verbose=0)"
      ],
      "execution_count": 17,
      "outputs": []
    },
    {
      "cell_type": "code",
      "metadata": {
        "id": "ia6KjzQyHv8S"
      },
      "source": [
        "#cnn = tf.keras.models.Sequential()"
      ],
      "execution_count": 18,
      "outputs": []
    },
    {
      "cell_type": "code",
      "metadata": {
        "id": "_lGLRDE5IYDc"
      },
      "source": [
        "#cnn.add(tf.keras.layers.Conv2D(filters=32, kernel_size=1, activation='relu', input_shape=(1372,7,1)))"
      ],
      "execution_count": 19,
      "outputs": []
    },
    {
      "cell_type": "code",
      "metadata": {
        "id": "fHXMjN_uIZHv"
      },
      "source": [
        "#cnn.summary()\n"
      ],
      "execution_count": 20,
      "outputs": []
    },
    {
      "cell_type": "code",
      "metadata": {
        "id": "zxa6ddvPNq2v"
      },
      "source": [
        "#cnn.add(tf.keras.layers.Flatten())"
      ],
      "execution_count": 21,
      "outputs": []
    },
    {
      "cell_type": "code",
      "metadata": {
        "id": "goXUgHONNujv"
      },
      "source": [
        "#cnn.add(tf.keras.layers.Dense(units=1372, activation='relu'))"
      ],
      "execution_count": 22,
      "outputs": []
    },
    {
      "cell_type": "code",
      "metadata": {
        "id": "_KCNJ1GcNxTA"
      },
      "source": [
        "#cnn.summary()"
      ],
      "execution_count": 23,
      "outputs": []
    },
    {
      "cell_type": "code",
      "metadata": {
        "id": "GGEEQWK8UGbC"
      },
      "source": [
        "#cnn.add(tf.keras.layers.Dense(units=128, activation='relu'))"
      ],
      "execution_count": 24,
      "outputs": []
    },
    {
      "cell_type": "code",
      "metadata": {
        "id": "JnQAfY8MVAyi"
      },
      "source": [
        "#cnn.add(tf.keras.layers.Dense(units=2, activation='softmax'))"
      ],
      "execution_count": 25,
      "outputs": []
    },
    {
      "cell_type": "code",
      "metadata": {
        "id": "jG-xrh5a8M05"
      },
      "source": [
        "m = updt.iloc[:, 1:].values"
      ],
      "execution_count": 26,
      "outputs": []
    },
    {
      "cell_type": "code",
      "metadata": {
        "colab": {
          "base_uri": "https://localhost:8080/"
        },
        "id": "bwEeS3S38TBZ",
        "outputId": "d06552ec-b60a-4006-819f-8d512409b7fe"
      },
      "source": [
        "m"
      ],
      "execution_count": 27,
      "outputs": [
        {
          "output_type": "execute_result",
          "data": {
            "text/plain": [
              "array([[  0.9609,  31.3   ,  34.8   , ...,   0.    ,   0.    ,   1.    ],\n",
              "       [  0.9609,  31.3   ,  34.8   , ...,   0.    ,   0.    ,   1.    ],\n",
              "       [  0.9301,  40.    , -75.1   , ...,   1.    ,   0.    ,   1.    ],\n",
              "       ...,\n",
              "       [  0.5233, -23.6   , -70.4   , ...,   1.    ,   0.    ,   0.    ],\n",
              "       [  0.1537,  43.7   , -79.4   , ...,   0.    ,   0.    ,   1.    ],\n",
              "       [  0.7657,      nan,      nan, ...,   0.    ,   0.    ,   1.    ]])"
            ]
          },
          "metadata": {
            "tags": []
          },
          "execution_count": 27
        }
      ]
    },
    {
      "cell_type": "code",
      "metadata": {
        "colab": {
          "base_uri": "https://localhost:8080/"
        },
        "id": "j0ojw4RA8eJS",
        "outputId": "8de32277-16f2-4e33-e682-b7ceb2821711"
      },
      "source": [
        "m.shape"
      ],
      "execution_count": 28,
      "outputs": [
        {
          "output_type": "execute_result",
          "data": {
            "text/plain": [
              "(1716, 8)"
            ]
          },
          "metadata": {
            "tags": []
          },
          "execution_count": 28
        }
      ]
    },
    {
      "cell_type": "code",
      "metadata": {
        "id": "WvFClk-NXvB3"
      },
      "source": [
        "from sklearn.impute import SimpleImputer\n",
        "imputer = SimpleImputer(missing_values=np.nan, strategy='mean')\n",
        "imputer.fit(m[:, 1:4])\n",
        "m[:, 1:4] = imputer.transform(m[:, 1:4])"
      ],
      "execution_count": 29,
      "outputs": []
    },
    {
      "cell_type": "code",
      "metadata": {
        "id": "Rx3uGUVL8kTY"
      },
      "source": [
        "def split_sequences(sequences, n_steps):\n",
        "\ta, b = list(), list()\n",
        "\tfor i in range(len(sequences)):\n",
        "\t\t# find the end of this pattern\n",
        "\t\tend_ix = i + n_steps\n",
        "    \n",
        "\t\t# check if we are beyond the dataset\n",
        "\t\tif end_ix > len(sequences):\n",
        "\t\t\tbreak\n",
        "\t\t# gather input and output parts of the pattern\n",
        "\t\tseq_x, seq_y = sequences[i:end_ix, :-1], sequences[end_ix-1, -1]\n",
        "\t\ta.append(seq_x)\n",
        "\t\tb.append(seq_y)\n",
        "\treturn array(a), array(b)"
      ],
      "execution_count": 30,
      "outputs": []
    },
    {
      "cell_type": "code",
      "metadata": {
        "id": "Yi7HiQntWJEe"
      },
      "source": [
        "from numpy import array\n",
        "a, b = split_sequences(m, 8)"
      ],
      "execution_count": 31,
      "outputs": []
    },
    {
      "cell_type": "code",
      "metadata": {
        "colab": {
          "base_uri": "https://localhost:8080/"
        },
        "id": "ZZIM9qDYW9QE",
        "outputId": "2389d52e-7f82-46ac-a7cf-ee9132835eb1"
      },
      "source": [
        "a"
      ],
      "execution_count": 32,
      "outputs": [
        {
          "output_type": "execute_result",
          "data": {
            "text/plain": [
              "array([[[ 9.60900000e-01,  3.13000000e+01,  3.48000000e+01, ...,\n",
              "          1.00000000e+00,  0.00000000e+00,  0.00000000e+00],\n",
              "        [ 9.60900000e-01,  3.13000000e+01,  3.48000000e+01, ...,\n",
              "          1.00000000e+00,  0.00000000e+00,  0.00000000e+00],\n",
              "        [ 9.30100000e-01,  4.00000000e+01, -7.51000000e+01, ...,\n",
              "          1.00000000e+00,  1.00000000e+00,  0.00000000e+00],\n",
              "        ...,\n",
              "        [ 8.93700000e-01,  3.10103448e+01,  5.77442529e+00, ...,\n",
              "          0.00000000e+00,  0.00000000e+00,  0.00000000e+00],\n",
              "        [ 9.88300000e-01,  3.94000000e+01,  6.72000000e+01, ...,\n",
              "          1.00000000e+00,  0.00000000e+00,  0.00000000e+00],\n",
              "        [ 9.45600000e-01,  3.10103448e+01,  5.77442529e+00, ...,\n",
              "          1.00000000e+00,  1.00000000e+00,  0.00000000e+00]],\n",
              "\n",
              "       [[ 9.60900000e-01,  3.13000000e+01,  3.48000000e+01, ...,\n",
              "          1.00000000e+00,  0.00000000e+00,  0.00000000e+00],\n",
              "        [ 9.30100000e-01,  4.00000000e+01, -7.51000000e+01, ...,\n",
              "          1.00000000e+00,  1.00000000e+00,  0.00000000e+00],\n",
              "        [ 9.96800000e-01,  3.10103448e+01,  5.77442529e+00, ...,\n",
              "          1.00000000e+00,  0.00000000e+00,  0.00000000e+00],\n",
              "        ...,\n",
              "        [ 9.88300000e-01,  3.94000000e+01,  6.72000000e+01, ...,\n",
              "          1.00000000e+00,  0.00000000e+00,  0.00000000e+00],\n",
              "        [ 9.45600000e-01,  3.10103448e+01,  5.77442529e+00, ...,\n",
              "          1.00000000e+00,  1.00000000e+00,  0.00000000e+00],\n",
              "        [ 9.95900000e-01,  3.10103448e+01,  5.77442529e+00, ...,\n",
              "          0.00000000e+00,  0.00000000e+00,  0.00000000e+00]],\n",
              "\n",
              "       [[ 9.30100000e-01,  4.00000000e+01, -7.51000000e+01, ...,\n",
              "          1.00000000e+00,  1.00000000e+00,  0.00000000e+00],\n",
              "        [ 9.96800000e-01,  3.10103448e+01,  5.77442529e+00, ...,\n",
              "          1.00000000e+00,  0.00000000e+00,  0.00000000e+00],\n",
              "        [ 3.06000000e-02,  1.38000000e+01, -8.96000000e+01, ...,\n",
              "          0.00000000e+00,  0.00000000e+00,  1.00000000e+00],\n",
              "        ...,\n",
              "        [ 9.45600000e-01,  3.10103448e+01,  5.77442529e+00, ...,\n",
              "          1.00000000e+00,  1.00000000e+00,  0.00000000e+00],\n",
              "        [ 9.95900000e-01,  3.10103448e+01,  5.77442529e+00, ...,\n",
              "          0.00000000e+00,  0.00000000e+00,  0.00000000e+00],\n",
              "        [ 5.76000000e-02,  4.68000000e+01,  6.60000000e+00, ...,\n",
              "          1.00000000e+00,  1.00000000e+00,  0.00000000e+00]],\n",
              "\n",
              "       ...,\n",
              "\n",
              "       [[ 9.75300000e-01,  3.99000000e+01,  3.28000000e+01, ...,\n",
              "          1.00000000e+00,  1.00000000e+00,  0.00000000e+00],\n",
              "        [ 9.67100000e-01,  3.57000000e+01,  1.39800000e+02, ...,\n",
              "          0.00000000e+00,  0.00000000e+00,  0.00000000e+00],\n",
              "        [ 9.67600000e-01,  4.10000000e+01,  2.91000000e+01, ...,\n",
              "          1.00000000e+00,  0.00000000e+00,  0.00000000e+00],\n",
              "        ...,\n",
              "        [ 6.11200000e-01, -3.45000000e+01, -5.87000000e+01, ...,\n",
              "          0.00000000e+00,  0.00000000e+00,  0.00000000e+00],\n",
              "        [ 8.75100000e-01,  3.10103448e+01,  5.77442529e+00, ...,\n",
              "          1.00000000e+00,  0.00000000e+00,  0.00000000e+00],\n",
              "        [ 5.23300000e-01, -2.36000000e+01, -7.04000000e+01, ...,\n",
              "          0.00000000e+00,  1.00000000e+00,  0.00000000e+00]],\n",
              "\n",
              "       [[ 9.67100000e-01,  3.57000000e+01,  1.39800000e+02, ...,\n",
              "          0.00000000e+00,  0.00000000e+00,  0.00000000e+00],\n",
              "        [ 9.67600000e-01,  4.10000000e+01,  2.91000000e+01, ...,\n",
              "          1.00000000e+00,  0.00000000e+00,  0.00000000e+00],\n",
              "        [ 1.38000000e-02,  3.10103448e+01,  5.77442529e+00, ...,\n",
              "          0.00000000e+00,  0.00000000e+00,  0.00000000e+00],\n",
              "        ...,\n",
              "        [ 8.75100000e-01,  3.10103448e+01,  5.77442529e+00, ...,\n",
              "          1.00000000e+00,  0.00000000e+00,  0.00000000e+00],\n",
              "        [ 5.23300000e-01, -2.36000000e+01, -7.04000000e+01, ...,\n",
              "          0.00000000e+00,  1.00000000e+00,  0.00000000e+00],\n",
              "        [ 1.53700000e-01,  4.37000000e+01, -7.94000000e+01, ...,\n",
              "          1.00000000e+00,  0.00000000e+00,  0.00000000e+00]],\n",
              "\n",
              "       [[ 9.67600000e-01,  4.10000000e+01,  2.91000000e+01, ...,\n",
              "          1.00000000e+00,  0.00000000e+00,  0.00000000e+00],\n",
              "        [ 1.38000000e-02,  3.10103448e+01,  5.77442529e+00, ...,\n",
              "          0.00000000e+00,  0.00000000e+00,  0.00000000e+00],\n",
              "        [ 9.87900000e-01,  3.10103448e+01,  5.77442529e+00, ...,\n",
              "          1.00000000e+00,  0.00000000e+00,  0.00000000e+00],\n",
              "        ...,\n",
              "        [ 5.23300000e-01, -2.36000000e+01, -7.04000000e+01, ...,\n",
              "          0.00000000e+00,  1.00000000e+00,  0.00000000e+00],\n",
              "        [ 1.53700000e-01,  4.37000000e+01, -7.94000000e+01, ...,\n",
              "          1.00000000e+00,  0.00000000e+00,  0.00000000e+00],\n",
              "        [ 7.65700000e-01,  3.10103448e+01,  5.77442529e+00, ...,\n",
              "          0.00000000e+00,  0.00000000e+00,  0.00000000e+00]]])"
            ]
          },
          "metadata": {
            "tags": []
          },
          "execution_count": 32
        }
      ]
    },
    {
      "cell_type": "code",
      "metadata": {
        "colab": {
          "base_uri": "https://localhost:8080/"
        },
        "id": "SCEgf-WVxJ2D",
        "outputId": "dafa23fe-169c-435e-e530-3175802b2750"
      },
      "source": [
        "a.shape"
      ],
      "execution_count": 33,
      "outputs": [
        {
          "output_type": "execute_result",
          "data": {
            "text/plain": [
              "(1709, 8, 7)"
            ]
          },
          "metadata": {
            "tags": []
          },
          "execution_count": 33
        }
      ]
    },
    {
      "cell_type": "code",
      "metadata": {
        "colab": {
          "base_uri": "https://localhost:8080/"
        },
        "id": "8XNSkAYCXAFc",
        "outputId": "af600b3c-845c-4875-a4a0-e68ffdcfb75c"
      },
      "source": [
        "b"
      ],
      "execution_count": 34,
      "outputs": [
        {
          "output_type": "execute_result",
          "data": {
            "text/plain": [
              "array([2., 1., 0., ..., 0., 1., 1.])"
            ]
          },
          "metadata": {
            "tags": []
          },
          "execution_count": 34
        }
      ]
    },
    {
      "cell_type": "code",
      "metadata": {
        "id": "RAfH0sYCcj1t"
      },
      "source": [
        "from sklearn.model_selection import train_test_split\n",
        "a_train, a_test, b_train, b_test = train_test_split(a, b, test_size = 0.2, random_state = 1)"
      ],
      "execution_count": 35,
      "outputs": []
    },
    {
      "cell_type": "code",
      "metadata": {
        "id": "Qvt8iu3IZj8d"
      },
      "source": [
        "n_features = a.shape[2]"
      ],
      "execution_count": 36,
      "outputs": []
    },
    {
      "cell_type": "code",
      "metadata": {
        "colab": {
          "base_uri": "https://localhost:8080/"
        },
        "id": "e9y0SOTIZnsK",
        "outputId": "7d3a33dc-7ccb-42ca-d321-e336e44d6ec9"
      },
      "source": [
        "n_features"
      ],
      "execution_count": 37,
      "outputs": [
        {
          "output_type": "execute_result",
          "data": {
            "text/plain": [
              "7"
            ]
          },
          "metadata": {
            "tags": []
          },
          "execution_count": 37
        }
      ]
    },
    {
      "cell_type": "code",
      "metadata": {
        "id": "dBF_DEgvZ7Vf"
      },
      "source": [
        "from numpy import array\n",
        "from numpy import hstack\n",
        "from keras.models import Sequential\n",
        "from keras.layers import Dense\n",
        "from keras.layers import Flatten\n",
        "from keras.layers.convolutional import Conv1D\n",
        "from keras.layers.convolutional import MaxPooling1D"
      ],
      "execution_count": 38,
      "outputs": []
    },
    {
      "cell_type": "code",
      "metadata": {
        "id": "665DlxZhZ0ap"
      },
      "source": [
        "model = Sequential()\n",
        "model.add(Conv1D(filters=64, kernel_size=2, activation='relu', input_shape=(8, n_features)))\n",
        "model.add(MaxPooling1D(pool_size=2))\n",
        "model.add(Flatten())\n",
        "model.add(Dense(50, activation='relu'))\n",
        "model.add(Dense(1))\n",
        "model.compile(optimizer='adam', loss='mse',metrics = ['accuracy'])\n",
        "# fit model\n",
        "#model.fit(a, b, epochs=10, verbose=0)"
      ],
      "execution_count": 39,
      "outputs": []
    },
    {
      "cell_type": "code",
      "metadata": {
        "colab": {
          "base_uri": "https://localhost:8080/"
        },
        "id": "ErL-jhLQQdQJ",
        "outputId": "e76e782e-04d2-4926-a3a2-bf7a72aa3fad"
      },
      "source": [
        "model.summary()"
      ],
      "execution_count": 40,
      "outputs": [
        {
          "output_type": "stream",
          "text": [
            "Model: \"sequential\"\n",
            "_________________________________________________________________\n",
            "Layer (type)                 Output Shape              Param #   \n",
            "=================================================================\n",
            "conv1d (Conv1D)              (None, 7, 64)             960       \n",
            "_________________________________________________________________\n",
            "max_pooling1d (MaxPooling1D) (None, 3, 64)             0         \n",
            "_________________________________________________________________\n",
            "flatten (Flatten)            (None, 192)               0         \n",
            "_________________________________________________________________\n",
            "dense (Dense)                (None, 50)                9650      \n",
            "_________________________________________________________________\n",
            "dense_1 (Dense)              (None, 1)                 51        \n",
            "=================================================================\n",
            "Total params: 10,661\n",
            "Trainable params: 10,661\n",
            "Non-trainable params: 0\n",
            "_________________________________________________________________\n"
          ],
          "name": "stdout"
        }
      ]
    },
    {
      "cell_type": "code",
      "metadata": {
        "colab": {
          "base_uri": "https://localhost:8080/"
        },
        "id": "yPJF47zGc2ZU",
        "outputId": "bc568679-8671-4413-f16d-6b2540562973"
      },
      "source": [
        "model.fit(a_train, b_train, batch_size=128, epochs=10000, validation_data=(a_test, b_test), verbose=0)\n"
      ],
      "execution_count": 41,
      "outputs": [
        {
          "output_type": "execute_result",
          "data": {
            "text/plain": [
              "<keras.callbacks.History at 0x7fb6ed6bea90>"
            ]
          },
          "metadata": {
            "tags": []
          },
          "execution_count": 41
        }
      ]
    },
    {
      "cell_type": "code",
      "metadata": {
        "colab": {
          "base_uri": "https://localhost:8080/"
        },
        "id": "23Fm2mfVlSnB",
        "outputId": "0918ad3e-8cd5-474d-9b7c-b25b696fa26c"
      },
      "source": [
        "test_loss, test_acc = model.evaluate(a_test,b_test)\n",
        "print('test_acc: ',test_acc)"
      ],
      "execution_count": 42,
      "outputs": [
        {
          "output_type": "stream",
          "text": [
            "11/11 [==============================] - 0s 2ms/step - loss: 0.4198 - accuracy: 0.7193\n",
            "test_acc:  0.719298243522644\n"
          ],
          "name": "stdout"
        }
      ]
    }
  ]
}